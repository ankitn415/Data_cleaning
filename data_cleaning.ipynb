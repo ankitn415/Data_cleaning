{
 "cells": [
  {
   "cell_type": "code",
   "execution_count": 1,
   "id": "bb979eb4",
   "metadata": {},
   "outputs": [],
   "source": [
    "import numpy as np \n",
    "import pandas as pd \n",
    "import matplotlib.pyplot as plt\n",
    "%matplotlib inline\n",
    "import seaborn as sns"
   ]
  },
  {
   "cell_type": "code",
   "execution_count": 3,
   "id": "4408e122",
   "metadata": {},
   "outputs": [],
   "source": [
    "df = pd.read_csv(\"marketing_campaign.csv\", sep=\"\\t\")"
   ]
  },
  {
   "cell_type": "code",
   "execution_count": 4,
   "id": "c83d644a",
   "metadata": {},
   "outputs": [],
   "source": [
    "df['Dt_Customer'] = pd.to_datetime(df['Dt_Customer'], format='%d-%m-%Y')\n"
   ]
  },
  {
   "cell_type": "code",
   "execution_count": 5,
   "id": "b422b570",
   "metadata": {},
   "outputs": [],
   "source": [
    "df.dropna(inplace=True)"
   ]
  },
  {
   "cell_type": "code",
   "execution_count": 6,
   "id": "2c351150",
   "metadata": {},
   "outputs": [],
   "source": [
    "mnt_cols = [col for col in df.columns if col.startswith('Mnt')]\n",
    "df['Total_Spent'] = df[mnt_cols].sum(axis=1)"
   ]
  },
  {
   "cell_type": "code",
   "execution_count": 7,
   "id": "7dd605f9",
   "metadata": {},
   "outputs": [],
   "source": [
    "cmp_cols = [col for col in df.columns if col.startswith('AcceptedCmp')]\n",
    "df['TotalAcceptedCmp'] = df[cmp_cols].sum(axis=1)"
   ]
  },
  {
   "cell_type": "code",
   "execution_count": 8,
   "id": "dd37f275",
   "metadata": {},
   "outputs": [],
   "source": [
    "df['Education'] = df['Education'].replace({\n",
    "    'Basic': 'Undergraduate',\n",
    "    '2n Cycle': 'Undergraduate',\n",
    "    'Graduation': 'Graduate',\n",
    "    'Master': 'Postgraduate',\n",
    "    'PhD': 'Doctorate'\n",
    "})"
   ]
  },
  {
   "cell_type": "code",
   "execution_count": 9,
   "id": "e68d2fa7",
   "metadata": {},
   "outputs": [],
   "source": [
    "df['Marital_Status'] = df['Marital_Status'].replace({\n",
    "    'Together': 'Relationship',\n",
    "    'Married': 'Relationship',\n",
    "    'Single': 'Single',\n",
    "    'Divorced': 'Single',\n",
    "    'Widow': 'Single',\n",
    "    'Alone': 'Single',\n",
    "    'Absurd': 'Single',\n",
    "    'YOLO': 'Single'\n",
    "})"
   ]
  },
  {
   "cell_type": "code",
   "execution_count": 10,
   "id": "9063c882",
   "metadata": {},
   "outputs": [
    {
     "data": {
      "text/plain": [
       "((2216, 31),\n",
       "      ID  Year_Birth  Education Marital_Status   Income Dt_Customer  \\\n",
       " 0  5524        1957   Graduate         Single  58138.0  2012-09-04   \n",
       " 1  2174        1954   Graduate         Single  46344.0  2014-03-08   \n",
       " 2  4141        1965   Graduate   Relationship  71613.0  2013-08-21   \n",
       " 3  6182        1984   Graduate   Relationship  26646.0  2014-02-10   \n",
       " 4  5324        1981  Doctorate   Relationship  58293.0  2014-01-19   \n",
       " \n",
       "    Total_Spent  TotalAcceptedCmp  \n",
       " 0         1617                 0  \n",
       " 1           27                 0  \n",
       " 2          776                 0  \n",
       " 3           53                 0  \n",
       " 4          422                 0  )"
      ]
     },
     "execution_count": 10,
     "metadata": {},
     "output_type": "execute_result"
    }
   ],
   "source": [
    "df.shape, df[['ID', 'Year_Birth', 'Education', 'Marital_Status', 'Income', 'Dt_Customer', 'Total_Spent', 'TotalAcceptedCmp']].head()"
   ]
  },
  {
   "cell_type": "code",
   "execution_count": 11,
   "id": "d27e8e36",
   "metadata": {},
   "outputs": [],
   "source": [
    "df.to_csv(\"cleaned_marketing_campaign.csv\", index=False)\n"
   ]
  },
  {
   "cell_type": "code",
   "execution_count": null,
   "id": "044bf994",
   "metadata": {},
   "outputs": [],
   "source": []
  }
 ],
 "metadata": {
  "kernelspec": {
   "display_name": "Python 3 (ipykernel)",
   "language": "python",
   "name": "python3"
  },
  "language_info": {
   "codemirror_mode": {
    "name": "ipython",
    "version": 3
   },
   "file_extension": ".py",
   "mimetype": "text/x-python",
   "name": "python",
   "nbconvert_exporter": "python",
   "pygments_lexer": "ipython3",
   "version": "3.11.4"
  }
 },
 "nbformat": 4,
 "nbformat_minor": 5
}
